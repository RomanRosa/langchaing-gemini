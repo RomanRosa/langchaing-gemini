{
 "cells": [
  {
   "cell_type": "code",
   "execution_count": 2,
   "metadata": {},
   "outputs": [],
   "source": [
    "from langchain.llms import OpenAI"
   ]
  },
  {
   "cell_type": "code",
   "execution_count": 3,
   "metadata": {},
   "outputs": [],
   "source": [
    "import os\n",
    "os.environ['OPEN_API_KEY']= '' # Add OPENAI_API_KEY"
   ]
  },
  {
   "cell_type": "code",
   "execution_count": 5,
   "metadata": {},
   "outputs": [],
   "source": [
    "llm=OpenAI(openai_api_key=os.environ['OPENAI_API_KEY'],temperature=0.6)"
   ]
  },
  {
   "cell_type": "code",
   "execution_count": 6,
   "metadata": {},
   "outputs": [
    {
     "name": "stdout",
     "output_type": "stream",
     "text": [
      "\n",
      "\n",
      "The capital of India is New Delhi.\n"
     ]
    }
   ],
   "source": [
    "text= \"What is the capital of India?\"\n",
    "\n",
    "print(llm.predict(text))"
   ]
  },
  {
   "cell_type": "code",
   "execution_count": 14,
   "metadata": {},
   "outputs": [],
   "source": [
    "os.environ['HUGGINGFACEHUB_API_TOKEN']=\"\" # Add HUGGINGFACEHUB_API_TOKEN"
   ]
  },
  {
   "cell_type": "code",
   "execution_count": 15,
   "metadata": {},
   "outputs": [],
   "source": [
    "from langchain import HuggingFaceHub"
   ]
  },
  {
   "cell_type": "code",
   "execution_count": 17,
   "metadata": {},
   "outputs": [
    {
     "name": "stderr",
     "output_type": "stream",
     "text": [
      "c:\\anaconda3\\envs\\gemini\\lib\\site-packages\\huggingface_hub\\utils\\_deprecation.py:131: FutureWarning: 'InferenceApi' (from 'huggingface_hub.inference_api') is deprecated and will be removed from version '1.0'. `InferenceApi` client is deprecated in favor of the more feature-complete `InferenceClient`. Check out this guide to learn how to convert your script to use it: https://huggingface.co/docs/huggingface_hub/guides/inference#legacy-inferenceapi-client.\n",
      "  warnings.warn(warning_message, FutureWarning)\n"
     ]
    }
   ],
   "source": [
    "llm_huggingface= HuggingFaceHub(repo_id='google/flan-t5-large', model_kwargs={'temperature':0, 'max_length':64})"
   ]
  },
  {
   "cell_type": "code",
   "execution_count": 18,
   "metadata": {},
   "outputs": [
    {
     "name": "stdout",
     "output_type": "stream",
     "text": [
      "moscow\n"
     ]
    }
   ],
   "source": [
    "output=llm_huggingface.predict('Can you tell me the capital of Russia')\n",
    "print(output)"
   ]
  },
  {
   "cell_type": "code",
   "execution_count": 19,
   "metadata": {},
   "outputs": [
    {
     "name": "stdout",
     "output_type": "stream",
     "text": [
      "i love the way i look at the world i love the way i feel i love the way i think i feel i love the way i feel i love the way i think i feel i love the way i feel i love the way \n"
     ]
    }
   ],
   "source": [
    "output=llm_huggingface.predict('Can you write a poem about AI')\n",
    "print(output)"
   ]
  },
  {
   "cell_type": "code",
   "execution_count": 20,
   "metadata": {},
   "outputs": [
    {
     "data": {
      "text/plain": [
       "\"\\n\\nArtificial intelligence, a technology so grand\\nCreated by humans, but with minds so unplanned\\nA world of algorithms, codes and machines\\nBut can they truly understand what it means?\\n\\nThey can learn and adapt, at an incredible pace\\nBut can they feel emotions, or show a human face?\\nThey process data, with precision and speed\\nBut can they dream, or have a heart that can bleed?\\n\\nThey can assist us, in tasks big and small\\nBut can they truly comprehend, the world and all?\\nThey can make decisions, based on what they're taught\\nBut can they truly think, or is it all for naught?\\n\\nThey can predict and analyze, with amazing accuracy\\nBut can they experience, true human capacity?\\nThey can store endless knowledge, with no limit or end\\nBut can they truly connect, with a heart to befriend?\\n\\nSome say they'll surpass us, in intelligence and might\\nBut can they ever truly, replace our human plight?\\nFor in this world of AI, we must remember our role\\nTo guide and shape them, with our humanity as a whole.\\n\\nSo let us embrace, this technology so new\\nBut never forget, what makes us human and true\\nFor AI may have its place, but it cannot\""
      ]
     },
     "execution_count": 20,
     "metadata": {},
     "output_type": "execute_result"
    }
   ],
   "source": [
    "llm.predict('Can you write a poem about AI')"
   ]
  },
  {
   "cell_type": "markdown",
   "metadata": {},
   "source": [
    "### Prompt Templates & LLMChains"
   ]
  },
  {
   "cell_type": "code",
   "execution_count": 21,
   "metadata": {},
   "outputs": [
    {
     "data": {
      "text/plain": [
       "'Tell me the capital of this India'"
      ]
     },
     "execution_count": 21,
     "metadata": {},
     "output_type": "execute_result"
    }
   ],
   "source": [
    "from langchain.prompts import PromptTemplate\n",
    "\n",
    "prompt_template= PromptTemplate(input_variables=['country'],\n",
    "                                template= \"Tell me the capital of this {country}\")\n",
    "\n",
    "\n",
    "prompt_template.format(country= \"India\")"
   ]
  },
  {
   "cell_type": "code",
   "execution_count": 22,
   "metadata": {},
   "outputs": [],
   "source": [
    "from langchain.chains import LLMChain"
   ]
  },
  {
   "cell_type": "code",
   "execution_count": 23,
   "metadata": {},
   "outputs": [
    {
     "data": {
      "text/plain": [
       "'\\n\\nThe capital of India is New Delhi.'"
      ]
     },
     "execution_count": 23,
     "metadata": {},
     "output_type": "execute_result"
    }
   ],
   "source": [
    "chain= LLMChain(llm=llm, prompt=prompt_template)\n",
    "chain.run('India')"
   ]
  },
  {
   "cell_type": "code",
   "execution_count": 24,
   "metadata": {},
   "outputs": [
    {
     "name": "stdout",
     "output_type": "stream",
     "text": [
      "\n",
      "\n",
      "The capital of India is New Delhi. \n"
     ]
    }
   ],
   "source": [
    "print(chain.run('India'))"
   ]
  },
  {
   "cell_type": "markdown",
   "metadata": {},
   "source": [
    "### Combining Multiple Chains Using Simple Sequential Chain"
   ]
  },
  {
   "cell_type": "code",
   "execution_count": 26,
   "metadata": {},
   "outputs": [],
   "source": [
    "capital_prompt=PromptTemplate(input_variables=['country'],\n",
    "                               template= 'Please tell me the capital of the {country}')\n",
    "\n",
    "capital_chain= LLMChain(llm=llm, prompt=capital_prompt)"
   ]
  },
  {
   "cell_type": "code",
   "execution_count": 27,
   "metadata": {},
   "outputs": [],
   "source": [
    "famous_template= PromptTemplate(input_variables= ['capital'],\n",
    "                                template= 'Suggest me some amazing places to visti in {capital}')"
   ]
  },
  {
   "cell_type": "code",
   "execution_count": 28,
   "metadata": {},
   "outputs": [],
   "source": [
    "famous_chain= LLMChain(llm=llm, prompt=famous_template)"
   ]
  },
  {
   "cell_type": "code",
   "execution_count": 29,
   "metadata": {},
   "outputs": [
    {
     "data": {
      "text/plain": [
       "\" Here are some amazing places to visit in Delhi:\\n\\n1. Red Fort: This historic fort was built by Mughal emperor Shah Jahan in the 17th century and is a UNESCO World Heritage Site. It is known for its beautiful red sandstone walls and intricate architecture.\\n\\n2. Qutub Minar: Another UNESCO World Heritage Site, Qutub Minar is a 73-meter tall tower built by Qutub-ud-din Aibak in the 12th century. It is a popular tourist spot with its beautiful architecture and historical significance.\\n\\n3. India Gate: This iconic monument is a war memorial dedicated to the soldiers who died in World War I. It is a popular spot for picnics and has beautiful gardens surrounding it.\\n\\n4. Lotus Temple: This beautiful temple is shaped like a lotus flower and is a symbol of peace and unity. It is open to people of all religions and is a popular spot for meditation and reflection.\\n\\n5. Humayun's Tomb: Another UNESCO World Heritage Site, this beautiful tomb was built for Mughal emperor Humayun in the 16th century. It is known for its stunning architecture and beautiful gardens.\\n\\n6. Chandni Chowk: This bustling market in Old Delhi is a\""
      ]
     },
     "execution_count": 29,
     "metadata": {},
     "output_type": "execute_result"
    }
   ],
   "source": [
    "from langchain.chains import SimpleSequentialChain\n",
    "chain= SimpleSequentialChain(chains=[capital_chain, famous_chain])\n",
    "chain.run('India')"
   ]
  },
  {
   "cell_type": "markdown",
   "metadata": {},
   "source": [
    "## Sequential Chain"
   ]
  },
  {
   "cell_type": "code",
   "execution_count": 30,
   "metadata": {},
   "outputs": [],
   "source": [
    "capital_prompt=PromptTemplate(input_variables=['country'],\n",
    "                               template= 'Please tell me the capital of the {country}')\n",
    "\n",
    "capital_chain= LLMChain(llm=llm, prompt=capital_prompt, output_key= 'capital')"
   ]
  },
  {
   "cell_type": "code",
   "execution_count": 31,
   "metadata": {},
   "outputs": [],
   "source": [
    "famous_template= PromptTemplate(input_variables= ['capital'],\n",
    "                                template= 'Suggest me some amazing places to visti in {capital}')"
   ]
  },
  {
   "cell_type": "code",
   "execution_count": 32,
   "metadata": {},
   "outputs": [],
   "source": [
    "famous_chain= LLMChain(llm=llm, prompt=famous_template, output_key= 'places')"
   ]
  },
  {
   "cell_type": "code",
   "execution_count": 33,
   "metadata": {},
   "outputs": [],
   "source": [
    "from langchain.chains import SequentialChain"
   ]
  },
  {
   "cell_type": "code",
   "execution_count": 34,
   "metadata": {},
   "outputs": [],
   "source": [
    "chain= SequentialChain(chains= [capital_chain, famous_chain],\n",
    "                       input_variables= ['country'],\n",
    "                       output_variables= ['capital', 'places']\n",
    "                       )"
   ]
  },
  {
   "cell_type": "code",
   "execution_count": 36,
   "metadata": {},
   "outputs": [
    {
     "data": {
      "text/plain": [
       "{'country': 'India',\n",
       " 'capital': '\\n\\nThe capital of India is New Delhi.',\n",
       " 'places': \" Here are some amazing places to visit in Delhi:\\n\\n1. Red Fort - This iconic monument was built in the 17th century and served as the residence of the Mughal emperors. It is a UNESCO World Heritage Site and a must-visit for its stunning architecture and rich history.\\n\\n2. Qutub Minar - Another UNESCO World Heritage Site, Qutub Minar is the tallest brick minaret in the world. It is a beautiful example of Indo-Islamic architecture and houses several ancient ruins and monuments.\\n\\n3. India Gate - This war memorial is a popular spot for picnics and evening strolls. It was built to commemorate the soldiers who lost their lives in World War I and the Third Anglo-Afghan War.\\n\\n4. Lotus Temple - This Bahá'í House of Worship is known for its striking lotus-shaped architecture and tranquil atmosphere. It is open to people of all religions and is a great place for meditation and reflection.\\n\\n5. Humayun's Tomb - This stunning mausoleum was built in the 16th century for the Mughal emperor Humayun. It is a beautiful blend of Persian and Indian architecture and is surrounded by well-maintained gardens.\\n\\n6. Chandni Chowk - This\"}"
      ]
     },
     "execution_count": 36,
     "metadata": {},
     "output_type": "execute_result"
    }
   ],
   "source": [
    "chain({'country':'India'})"
   ]
  },
  {
   "cell_type": "markdown",
   "metadata": {},
   "source": [
    "### ChatModels With ChatOpenAI"
   ]
  },
  {
   "cell_type": "code",
   "execution_count": 37,
   "metadata": {},
   "outputs": [],
   "source": [
    "from langchain.chat_models import ChatOpenAI"
   ]
  },
  {
   "cell_type": "code",
   "execution_count": 38,
   "metadata": {},
   "outputs": [],
   "source": [
    "from langchain.schema import HumanMessage, SystemMessage, AIMessage"
   ]
  },
  {
   "cell_type": "code",
   "execution_count": 39,
   "metadata": {},
   "outputs": [],
   "source": [
    "chatllm= ChatOpenAI(openai_api_key=os.environ['OPENAI_API_KEY'],temperature=0.6, model= 'gpt-3.5-turbo')"
   ]
  },
  {
   "cell_type": "code",
   "execution_count": 52,
   "metadata": {},
   "outputs": [],
   "source": [
    "#chatllm"
   ]
  },
  {
   "cell_type": "code",
   "execution_count": 41,
   "metadata": {},
   "outputs": [
    {
     "data": {
      "text/plain": [
       "AIMessage(content='1. \"Artificial intelligence is great, but I still haven\\'t figured out how to make it laugh at my jokes. Maybe it\\'s just programmed to have better taste in comedy!\"\\n\\n2. \"They say AI can analyze massive amounts of data in seconds, but can it figure out why my love life is a complete mess? Asking for a friend, of course.\"\\n\\n3. \"AI is like that friend who always has an answer for everything, except when you ask it what it wants for dinner. Suddenly, it\\'s just as indecisive as the rest of us!\"\\n\\n4. \"You know you\\'re living in the future when AI can beat humans at chess, but still can\\'t figure out how to fold a fitted sheet. Priorities, people!\"\\n\\n5. \"AI is like having a personal assistant that never complains, never takes breaks, and never asks for a raise. I guess I should be worried about job security, huh?\"\\n\\n6. \"They say AI is the future, but I\\'m still waiting for it to invent a self-cleaning kitchen. Until then, my sink full of dishes will remain a testament to human laziness.\"\\n\\n7. \"AI can recognize faces, but can it recognize when I\\'m trying to avoid someone at the grocery store and turn me invisible? Now that would be a useful feature!\"\\n\\n8. \"AI may be able to predict the weather, but can it predict when I\\'ll finally finish that never-ending to-do list? My guess is no, because it\\'s probably laughing at me too.\"\\n\\n9. \"AI can translate languages on the fly, but can it translate my dog\\'s barks into coherent sentences? I\\'d love to know what he\\'s been complaining about all these years!\"\\n\\n10. \"AI is like that friend who always has an answer for everything, except when you ask it where you left your keys. Suddenly, it\\'s just as forgetful as the rest of us!\"')"
      ]
     },
     "execution_count": 41,
     "metadata": {},
     "output_type": "execute_result"
    }
   ],
   "source": [
    "chatllm([\n",
    "    SystemMessage(content= 'You are a comedian AI assistant'),\n",
    "    HumanMessage(content= 'Please provide some commedy punchlines on AI')\n",
    "])"
   ]
  },
  {
   "cell_type": "markdown",
   "metadata": {},
   "source": [
    "### Prompt Template + LLM + Output Parsers"
   ]
  },
  {
   "cell_type": "code",
   "execution_count": 42,
   "metadata": {},
   "outputs": [],
   "source": [
    "from langchain.chat_models import ChatOpenAI\n",
    "from langchain.prompts.chat import ChatPromptTemplate\n",
    "from langchain.schema import BaseOutputParser"
   ]
  },
  {
   "cell_type": "code",
   "execution_count": 46,
   "metadata": {},
   "outputs": [],
   "source": [
    "class Commaseparatedoutput(BaseOutputParser):\n",
    "    def parse(self,text:str):\n",
    "        return text.strip().split(',')"
   ]
  },
  {
   "cell_type": "code",
   "execution_count": 47,
   "metadata": {},
   "outputs": [],
   "source": [
    "template= 'Your are a helpful assistant. When the user gives any input, you should generate 5 words synonyms in a comma separated list.'\n",
    "human_template= '{text}'\n",
    "chatprompt= ChatPromptTemplate.from_messages([\n",
    "    ('system',template),\n",
    "    ('human', human_template)\n",
    "])"
   ]
  },
  {
   "cell_type": "code",
   "execution_count": 48,
   "metadata": {},
   "outputs": [],
   "source": [
    "chain= chatprompt|chatllm|Commaseparatedoutput()"
   ]
  },
  {
   "cell_type": "code",
   "execution_count": 49,
   "metadata": {},
   "outputs": [
    {
     "data": {
      "text/plain": [
       "['clever', ' smart', ' brilliant', ' sharp', ' astute']"
      ]
     },
     "execution_count": 49,
     "metadata": {},
     "output_type": "execute_result"
    }
   ],
   "source": [
    "chain.invoke({'text':'intelligent'})"
   ]
  },
  {
   "cell_type": "code",
   "execution_count": 50,
   "metadata": {},
   "outputs": [],
   "source": [
    "chain= chatprompt|chatllm"
   ]
  },
  {
   "cell_type": "code",
   "execution_count": 51,
   "metadata": {},
   "outputs": [
    {
     "data": {
      "text/plain": [
       "AIMessage(content='smart, clever, brilliant, knowledgeable, astute')"
      ]
     },
     "execution_count": 51,
     "metadata": {},
     "output_type": "execute_result"
    }
   ],
   "source": [
    "chain.invoke({'text':'intelligent'})"
   ]
  },
  {
   "cell_type": "code",
   "execution_count": null,
   "metadata": {},
   "outputs": [],
   "source": []
  }
 ],
 "metadata": {
  "kernelspec": {
   "display_name": "Python 3",
   "language": "python",
   "name": "python3"
  },
  "language_info": {
   "codemirror_mode": {
    "name": "ipython",
    "version": 3
   },
   "file_extension": ".py",
   "mimetype": "text/x-python",
   "name": "python",
   "nbconvert_exporter": "python",
   "pygments_lexer": "ipython3",
   "version": "3.10.0"
  }
 },
 "nbformat": 4,
 "nbformat_minor": 2
}
